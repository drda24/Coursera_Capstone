{
    "cells": [
        {
            "cell_type": "markdown",
            "metadata": {
                "collapsed": true
            },
            "source": "# Chicago Neighborhoods Compared to San Francisco Neighborhoods\n\n\n### 1) Introduction\n\nChicago is the third most populated city in the United States, and is well known for having a diverse community with a variety of restaurant cuisines, social venues, and tourist attractions.  It is also comprised of many unique neighborhoods whose residents are used to being around the venues in the neighborhood.  Per U.S. Census data, San Francisco is the most common destination for residents that move out of Chicago (about 6.4% of all migrations out of Chicago are to San Francisco).  Many people that move from Chicago to San Francisco hope to find a neighborhood to reside in with familiar surroundings.\n\nTo answer the question of \"Which neighborhood should I choose when moving to San Francisco?\" I will be exploring the types of venues in each neighborhood of San Francisco and comparing them to the types of venues in each neighborhood in Chicago.  This will allow someone to make an informed decision of which new neighborhood to choose when they make the move from Chicago to San Francisco."
        },
        {
            "cell_type": "code",
            "execution_count": null,
            "metadata": {},
            "outputs": [],
            "source": ""
        }
    ],
    "metadata": {
        "kernelspec": {
            "display_name": "Python 3.7",
            "language": "python",
            "name": "python3"
        },
        "language_info": {
            "codemirror_mode": {
                "name": "ipython",
                "version": 3
            },
            "file_extension": ".py",
            "mimetype": "text/x-python",
            "name": "python",
            "nbconvert_exporter": "python",
            "pygments_lexer": "ipython3",
            "version": "3.7.9"
        }
    },
    "nbformat": 4,
    "nbformat_minor": 1
}