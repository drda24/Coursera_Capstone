{
    "cells": [
        {
            "cell_type": "markdown",
            "metadata": {
                "collapsed": true
            },
            "source": "# Chicago Neighborhoods Compared to San Francisco Neighborhoods\n\n\n### 2) Data\n\nIn order to compare the neighborhoods of Chicago and San Francisco, I needed to gather data from multiple sources.  First, I needed to find data on the neighborhoods themselves that would list the neighborhood names as well as their geographical coordinates to be able to explore the types of venues in nearby each one.  I was able to download neighborhood data in the form of Geojson files from each city's website.\n\n* Chicago's neighborhood data can be located [here](https://data.cityofchicago.org/Facilities-Geographic-Boundaries/Boundaries-Neighborhoods/bbvz-uum9)\n* San Francisco's neighborhood data can be located [here](https://data.sfgov.org/Geographic-Locations-and-Boundaries/Analysis-Neighborhoods/p5b7-5n3h)\n\nThe Geojson files will provide me with boundary's on each neighborhhod which will allow me to find what neighborhood a set of coordinates is in, instead of just distance from the center.  These files will also give me the ability to create better visualizations such as maps with neighborhood boundaries and choropleth maps.\n\nFrom there, I would need to call Foursquare's API for each neighborhood to obtain venue data which would be my last source of collected data.  With the venue data, I will find the frequency of categories in each   After that, I will only need to clean and explore the data in order to solve which neighborhoods are most similar. "
        },
        {
            "cell_type": "code",
            "execution_count": null,
            "metadata": {},
            "outputs": [],
            "source": ""
        }
    ],
    "metadata": {
        "kernelspec": {
            "display_name": "Python 3.7",
            "language": "python",
            "name": "python3"
        },
        "language_info": {
            "codemirror_mode": {
                "name": "ipython",
                "version": 3
            },
            "file_extension": ".py",
            "mimetype": "text/x-python",
            "name": "python",
            "nbconvert_exporter": "python",
            "pygments_lexer": "ipython3",
            "version": "3.7.9"
        }
    },
    "nbformat": 4,
    "nbformat_minor": 1
}